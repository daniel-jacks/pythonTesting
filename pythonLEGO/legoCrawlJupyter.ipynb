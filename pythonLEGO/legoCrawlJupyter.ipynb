{
 "cells": [
  {
   "attachments": {},
   "cell_type": "markdown",
   "metadata": {},
   "source": [
    "# My First Notebook\n"
   ]
  },
  {
   "cell_type": "code",
   "execution_count": 7,
   "metadata": {},
   "outputs": [
    {
     "name": "stdout",
     "output_type": "stream",
     "text": [
      "<html>\n",
      "<head><title>403 Forbidden</title></head>\n",
      "<body>\n",
      "<center><h1>403 Forbidden</h1></center>\n",
      "<hr><center>nginx/1.18.0 (Ubuntu)</center>\n",
      "</body>\n",
      "</html>\n",
      "\n"
     ]
    }
   ],
   "source": [
    "from bs4 import BeautifulSoup\n",
    "import re\n",
    "import requests\n",
    "import pandas as pd\n",
    "import seaborn as sns\n",
    "# import numpy as np\n",
    "# from scipy import stats\n",
    "\n",
    "# def check_regex_match(inputString):\n",
    "#     acceptedRegex = re.compile('\\d{5}')\n",
    "#     match = re.search(acceptedRegex, inputString)\n",
    "#     return match is not None\n",
    "\n",
    "# item_name = []\n",
    "# prices = []\n",
    "\n",
    "# for i in range(1, 2):\n",
    "#     print(f'page: {i}')\n",
    "#     ebayUrl = f'https://www.ebay.com/sch/i.html?_from=R40&_nkw=lego+star+wars&_sacat=0&_sop=1&_dmd=1&rt=nc&_ipg=240&_pgn={i}'\n",
    "\n",
    "#     r = requests.get(ebayUrl)\n",
    "#     soup = BeautifulSoup(r.text, 'html.parser')\n",
    "\n",
    "#     listings = soup.find_all('li', attrs={'class': 's-item'})\n",
    "#     for listing in listings:\n",
    "#         if listing.find('span', attrs={'role': 'heading'}).text != None:\n",
    "#             print(check_regex_match(listing.find('span', attrs={'role': 'heading'}).text))\n",
    "#             if check_regex_match(listing.find('span', attrs={'role': 'heading'}).text):\n",
    "#                 title = listing.find('span', attrs={'role': 'heading'}).text\n",
    "#                 print(title)\n",
    "#                 if listing.find('span', attrs={'class': 's-item__price'}).text != None:\n",
    "#                     price = listing.find('span', attrs={'class': 's-item__price'}).text\n",
    "#                     prices.append(float(price[1:]))\n",
    "\n",
    "# # list_zip = zip(item_name, prices)\n",
    "\n",
    "# data = pd.DataFrame(list_zip)\n",
    "# data.columns = ['Name', 'Price']\n",
    "\n",
    "# sns.boxplot(data['Price'])\n",
    "\n",
    "bricklink_url = 'https://www.bricklink.com/v2/catalog/catalogitem.page?S=75256-1&name=Kylo%20Ren%27s%20Shuttle#T=S&O={%22iconly%22:0}'\n",
    "\n",
    "r = requests.get(bricklink_url)\n",
    "soup = BeautifulSoup(r.text, 'html.parser')\n",
    "print(r.text)\n",
    "items = soup.find_all('tr', attrs={'class': 'pciinvItemRow'})\n",
    "for item in items: \n",
    "    print(item.find('td', attrs={'style': 'text-align: left;'}.text))\n",
    "\n"
   ]
  }
 ],
 "metadata": {
  "kernelspec": {
   "display_name": "base",
   "language": "python",
   "name": "python3"
  },
  "language_info": {
   "codemirror_mode": {
    "name": "ipython",
    "version": 3
   },
   "file_extension": ".py",
   "mimetype": "text/x-python",
   "name": "python",
   "nbconvert_exporter": "python",
   "pygments_lexer": "ipython3",
   "version": "3.10.9"
  },
  "orig_nbformat": 4
 },
 "nbformat": 4,
 "nbformat_minor": 2
}
