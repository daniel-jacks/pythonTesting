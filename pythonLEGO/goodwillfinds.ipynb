{
 "cells": [
  {
   "cell_type": "code",
   "execution_count": 11,
   "metadata": {},
   "outputs": [
    {
     "name": "stdout",
     "output_type": "stream",
     "text": [
      "['https://www.goodwillfinds.com/toys-and-collectibles/toys/building-and-construction/12.0-lbs-lego-star-wars-manuals-bulk-box/10013-0000-189669.html', 'https://www.goodwillfinds.com/toys-and-collectibles/toys/building-and-construction/12.0-lbs-lego-star-wars-manuals-bulk-box/10013-0000-189668.html', 'https://www.goodwillfinds.com/toys-and-collectibles/toys/building-and-construction/star-wars-factory-sealed-set-75305-scout-trooper-helmet/10013-0000-189777.html', 'https://www.goodwillfinds.com/toys-and-collectibles/toys/building-and-construction/star-wars-set-75099-reys-speeder-iob-w%2F-minifigures/10013-0000-187340.html', 'https://www.goodwillfinds.com/toys-and-collectibles/toys/building-and-construction/lego-big-fig-minifigures-star-wars-wampa-and-moan-maui-2-count-lot/10013-0000-187552.html', 'https://www.goodwillfinds.com/toys-and-collectibles/toys/building-and-construction/lego-star-wars-75254-at-st-raider/10020-0000-16905.html', 'https://www.goodwillfinds.com/toys-and-collectibles/toys/building-and-construction/11.6-lbs-lego-star-wars-bulk-box/10013-0000-186512.html', 'https://www.goodwillfinds.com/toys-and-collectibles/toys/building-and-construction/star-wars-assortment-sealed-led-lites-and-sealed-75295-millennium-falcon-microfighter/10013-0000-186914.html', 'https://www.goodwillfinds.com/toys-and-collectibles/toys/building-and-construction/9.4-lbs-lego-star-war-bulk-box/10013-0000-184771.html', 'https://www.goodwillfinds.com/toys-and-collectibles/toys/building-and-construction/star-wars-at-st-raider-540-pieces-complete-building-set/10019-0000-4084.html', 'https://www.goodwillfinds.com/toys-and-collectibles/toys/building-and-construction/nib-brick-headz-star-wars-the-mandalorian-and-the-child-set/10019-0000-3441.html', 'https://www.goodwillfinds.com/toys-and-collectibles/toys/building-and-construction/lego-brickheadz-star-wars-rey-and-kylo-ren-41489/10014-0000-167647.html', 'https://www.goodwillfinds.com/toys-and-collectibles/toys/building-and-construction/star-wars-sets-7654-droids-battle-pack-and-7655-clone-troopers-battle-pack-w%2F-minifigs-and-manuals/10013-0000-181466.html', 'https://www.goodwillfinds.com/toys-and-collectibles/toys/building-and-construction/star-wars-factory-sealed-set-75163-krennics-imperial-shuttle-microfighter-build-your-own-adventure-book/10013-0000-181216.html', 'https://www.goodwillfinds.com/toys-and-collectibles/toys/building-and-construction/2.5lb-lot-of-assorted-lego-mini-figures/10011-0000-304664.html', 'https://www.goodwillfinds.com/toys-and-collectibles/toys/building-and-construction/lego-star-wars-the-child-set-75318-iob/10011-0000-299782.html', 'https://www.goodwillfinds.com/toys-and-collectibles/toys/building-and-construction/lego-star-wars-snowspeeder-set-75049-iob/10011-0000-232352.html', 'https://www.goodwillfinds.com/toys-and-collectibles/toys/building-and-construction/lego-star-wars-choose-your-path-book-and-podracer-mini-building-set/10011-0000-276570.html', 'https://www.goodwillfinds.com/toys-and-collectibles/toys/building-and-construction/lego-star-wars-75321-and-75324/10014-0000-164851.html', 'https://www.goodwillfinds.com/toys-and-collectibles/toys/building-and-construction/lego-star-wars-first-order-snowspeeder-set/10011-0000-209531.html', 'https://www.goodwillfinds.com/toys-and-collectibles/toys/building-and-construction/pair-of-lego-sets-childrens-amusement-park-40529-and-brick-headz-star-wars-mandalorian-the-child-75317-nib/10011-0000-303250.html', 'https://www.goodwillfinds.com/toys-and-collectibles/toys/building-and-construction/star-wars-factory-sealed-75107-jango-fett/10013-0000-178563.html', 'https://www.goodwillfinds.com/toys-and-collectibles/toys/building-and-construction/lego-the-mandalorian-star-wars-building-set-75328/10014-0000-164572.html', 'https://www.goodwillfinds.com/toys-and-collectibles/toys/building-and-construction/lego--star-wars-the-mandalorian-and-the-child-brick-headz-iob/10011-0000-289363.html', 'https://www.goodwillfinds.com/toys-and-collectibles/toys/building-and-construction/lego-star-wars-the-clone-wars-minifigure-collection-of-9/10014-0000-162901.html', 'https://www.goodwillfinds.com/toys-and-collectibles/toys/building-and-construction/lego-star-wars-count-dooku-white-hair-sw0472-minifigure/10014-0000-162823.html', 'https://www.goodwillfinds.com/toys-and-collectibles/toys/building-and-construction/lego-star-wars-k-2so-buildable-figure-75120/10014-0000-162185.html', 'https://www.goodwillfinds.com/toys-and-collectibles/toys/building-and-construction/star-wars-minifigures-12-count-lot/10013-0000-174165.html', 'https://www.goodwillfinds.com/toys-and-collectibles/toys/building-and-construction/star-wars-factory-sealed-sets-75110-luke-skywalker-75131-resistance-trooper-battle-pack/10013-0000-173846.html', 'https://www.goodwillfinds.com/toys-and-collectibles/toys/building-and-construction/mindstorms-star-wars-9748-droid-developer-kit-iob-w%2F-manual-and-cd/10013-0000-172826.html', 'https://www.goodwillfinds.com/toys-and-collectibles/toys/building-and-construction/factory-sealed-star-wars-build-your-own-adventure-battle-for-the-stolen-crystals/10013-0000-172899.html', 'https://www.goodwillfinds.com/toys-and-collectibles/toys/building-and-construction/vntg-star-wars-8001-battle-droid-w%2F-manual/10013-0000-168480.html', 'https://www.goodwillfinds.com/toys-and-collectibles/toys/building-and-construction/lego-star-wars-build-your-own-adventure-book-and-play-set-w%2F-extra-building-blocks-nib/10011-0000-289465.html', 'https://www.goodwillfinds.com/toys-and-collectibles/toys/building-and-construction/star-wars-yoda-building-kit-75255/10011-0000-273925.html', 'https://www.goodwillfinds.com/toys-and-collectibles/toys/building-and-construction/lego-star-wars-dark-trooper-attack-set-75324/10011-0000-190606.html', 'https://www.goodwillfinds.com/toys-and-collectibles/toys/building-and-construction/star-wars-factory-sealed-set-75110-luke-skywalker/10013-0000-165238.html', 'https://www.goodwillfinds.com/toys-and-collectibles/toys/building-and-construction/lego-star-wars-anakin-skywalker%2Fdarth-vader-minifigure-bundle/10014-0000-148724.html', 'https://www.goodwillfinds.com/toys-and-collectibles/toys/building-and-construction/star-wars-ucs-75252-imperial-star-destroyer/10013-0000-162887.html', 'https://www.goodwillfinds.com/toys-and-collectibles/toys/building-and-construction/lego-star-wars-set-75318/10011-0000-281541.html', 'https://www.goodwillfinds.com/toys-and-collectibles/toys/building-and-construction/bundle-of-2-assorted-lego-star-wars-sets-iob/10011-0000-283846.html', 'https://www.goodwillfinds.com/toys-and-collectibles/toys/building-and-construction/pair-of-lego-star-wars-and-hidden-side-builders-sets/10011-0000-283544.html', 'https://www.goodwillfinds.com/toys-and-collectibles/toys/building-and-construction/star-wars-book-assortment-build-your-own-adventure-and-use-the-force/10013-0000-161875.html', 'https://www.goodwillfinds.com/toys-and-collectibles/toys/building-and-construction/lego-star-wars-rey-set/10020-0000-2332.html', 'https://www.goodwillfinds.com/toys-and-collectibles/toys/building-and-construction/star-wars-set-75104-kylo-rens-command-shuttle-iob-w%2F-manual/10013-0000-157739.html', 'https://www.goodwillfinds.com/toys-and-collectibles/toys/action-figures/lego-75307-star-wars-advent-calendar-2021-collectible-toys-from-the-mandalorian-335-pieces/10012-0000-126379.html', 'https://www.goodwillfinds.com/toys-and-collectibles/toys/action-figures/lego-75307-star-wars-advent-calendar-202-collectible-toys-from-the-mandalorian-335-pieces/10012-0000-126387.html', 'https://www.goodwillfinds.com/toys-and-collectibles/toys/action-figures/lego-75307-star-wars-advent-calendar-202-collectible-toys-from-the-mandalorian-335-pieces/10012-0000-126383.html', 'https://www.goodwillfinds.com/toys-and-collectibles/toys/building-and-construction/star-wars-battle-of-mustafar-building-bricks-75269/10011-0000-269129.html']\n"
     ]
    }
   ],
   "source": [
    "from bs4 import BeautifulSoup\n",
    "import requests\n",
    "\n",
    "previousList = []\n",
    "newList = []\n",
    "baseurl = \"https://www.goodwillfinds.com\"\n",
    "\n",
    "with open(\"C:/Users/Daniel/Builds/pythonLEGO/prevList.csv\", \"r+\") as f:\n",
    "    for line in f:\n",
    "        previousList.append(line)\n",
    "\n",
    "\n",
    "    pageUrl = \"https://www.goodwillfinds.com/toys-and-collectibles/?q=lego%20star%20wars\"\n",
    "\n",
    "    r = requests.get(pageUrl)\n",
    "    soup = BeautifulSoup(r.content)\n",
    "\n",
    "    listings = soup.find_all(\"article\", attrs={\"class\", \"b-product_tile\"})\n",
    "\n",
    "    for listing in listings:\n",
    "        newList.append(f'{baseurl}{listing.find(\"a\", attrs={\"class\", \"b-product_tile-title_link\"})[\"href\"]}')\n",
    "        f.write(f'{baseurl}{listing.find(\"a\", attrs={\"class\", \"b-product_tile-title_link\"})[\"href\"]}, \\n')\n",
    "\n",
    "print(newList)"
   ]
  }
 ],
 "metadata": {
  "kernelspec": {
   "display_name": "base",
   "language": "python",
   "name": "python3"
  },
  "language_info": {
   "codemirror_mode": {
    "name": "ipython",
    "version": 3
   },
   "file_extension": ".py",
   "mimetype": "text/x-python",
   "name": "python",
   "nbconvert_exporter": "python",
   "pygments_lexer": "ipython3",
   "version": "3.10.9"
  },
  "orig_nbformat": 4
 },
 "nbformat": 4,
 "nbformat_minor": 2
}
